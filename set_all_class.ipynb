{
 "cells": [
  {
   "cell_type": "code",
   "execution_count": 1,
   "metadata": {},
   "outputs": [],
   "source": [
    "import os "
   ]
  },
  {
   "cell_type": "code",
   "execution_count": 15,
   "metadata": {},
   "outputs": [],
   "source": [
    "import pre_res\n",
    "part1_cls_en = pre_res.read_txt('class.txt')\n",
    "part1_cls_cn = pre_res.read_txt('class_cn.txt')\n",
    "part2_cls_cn = pre_res.read_txt('Ts_class_cn.txt')\n",
    "part2_cls_en = pre_res.read_txt('Ts_class_en.txt')"
   ]
  },
  {
   "cell_type": "code",
   "execution_count": 4,
   "metadata": {},
   "outputs": [
    {
     "data": {
      "text/plain": [
       "(37, 37, 45, 45)"
      ]
     },
     "execution_count": 4,
     "metadata": {},
     "output_type": "execute_result"
    }
   ],
   "source": [
    "len(part1_cls_en),len(part1_cls_cn),len(part2_cls_en),len(part2_cls_cn)"
   ]
  },
  {
   "cell_type": "code",
   "execution_count": 12,
   "metadata": {},
   "outputs": [
    {
     "data": {
      "text/plain": [
       "('affenpinscher\\n', '艾芬笃宾犬\\n')"
      ]
     },
     "execution_count": 12,
     "metadata": {},
     "output_type": "execute_result"
    }
   ],
   "source": [
    "part2_cls_en[0],part2_cls_cn[0]"
   ]
  },
  {
   "cell_type": "code",
   "execution_count": 16,
   "metadata": {},
   "outputs": [
    {
     "data": {
      "text/plain": [
       "['scottish_terrier\\n',\n",
       " 'shiba_inu\\n',\n",
       " 'english_setter\\n',\n",
       " 'german_shorthaired\\n',\n",
       " 'saint_bernard\\n']"
      ]
     },
     "execution_count": 16,
     "metadata": {},
     "output_type": "execute_result"
    }
   ],
   "source": [
    "same = list(set(part1_cls_en) & set(part2_cls_en))\n",
    "same"
   ]
  },
  {
   "cell_type": "code",
   "execution_count": 17,
   "metadata": {},
   "outputs": [
    {
     "data": {
      "text/plain": [
       "[35, 37, 14, 18, 32]"
      ]
     },
     "execution_count": 17,
     "metadata": {},
     "output_type": "execute_result"
    }
   ],
   "source": [
    "same_idx = []\n",
    "for cls in same:\n",
    "    same_idx.append(part2_cls_en.index(cls))\n",
    "same_idx"
   ]
  },
  {
   "cell_type": "code",
   "execution_count": 18,
   "metadata": {},
   "outputs": [
    {
     "data": {
      "text/plain": [
       "int"
      ]
     },
     "execution_count": 18,
     "metadata": {},
     "output_type": "execute_result"
    }
   ],
   "source": [
    "type(same_idx[0])"
   ]
  },
  {
   "cell_type": "code",
   "execution_count": 20,
   "metadata": {},
   "outputs": [],
   "source": [
    "fp_en = open('all_cls_en.txt','w')\n",
    "fp_cn = open('all_cls_cn.txt','w')\n",
    "for i in range(len(part2_cls_en)):\n",
    "    if i in same_idx:\n",
    "        continue\n",
    "    else:\n",
    "        fp_en.write(part2_cls_en[i])\n",
    "        fp_cn.write(part2_cls_cn[i])\n",
    "for num in range(len(part1_cls_en)):\n",
    "    fp_en.write(part1_cls_en[num])\n",
    "    fp_cn.write(part1_cls_cn[num])\n",
    "\n",
    "fp_cn.close()\n",
    "fp_en.close()"
   ]
  },
  {
   "cell_type": "code",
   "execution_count": null,
   "metadata": {},
   "outputs": [],
   "source": []
  }
 ],
 "metadata": {
  "kernelspec": {
   "display_name": "base",
   "language": "python",
   "name": "python3"
  },
  "language_info": {
   "codemirror_mode": {
    "name": "ipython",
    "version": 3
   },
   "file_extension": ".py",
   "mimetype": "text/x-python",
   "name": "python",
   "nbconvert_exporter": "python",
   "pygments_lexer": "ipython3",
   "version": "3.9.13"
  },
  "orig_nbformat": 4
 },
 "nbformat": 4,
 "nbformat_minor": 2
}
