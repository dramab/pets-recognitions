{
 "cells": [
  {
   "cell_type": "code",
   "execution_count": 7,
   "metadata": {},
   "outputs": [],
   "source": [
    "import os "
   ]
  },
  {
   "cell_type": "code",
   "execution_count": 8,
   "metadata": {},
   "outputs": [],
   "source": [
    "path = r'E:\\py_code\\pets-recognitions\\Tsinghua Dogs Dataset\\low-resolution'"
   ]
  },
  {
   "cell_type": "code",
   "execution_count": 9,
   "metadata": {},
   "outputs": [
    {
     "data": {
      "text/plain": [
       "45"
      ]
     },
     "execution_count": 9,
     "metadata": {},
     "output_type": "execute_result"
    }
   ],
   "source": [
    "file_name = os.listdir(path)\n",
    "len(file_name)"
   ]
  },
  {
   "cell_type": "code",
   "execution_count": 4,
   "metadata": {},
   "outputs": [
    {
     "data": {
      "text/plain": [
       "'affenpinscher'"
      ]
     },
     "execution_count": 4,
     "metadata": {},
     "output_type": "execute_result"
    }
   ],
   "source": [
    "file_name[0]"
   ]
  },
  {
   "cell_type": "code",
   "execution_count": 14,
   "metadata": {},
   "outputs": [
    {
     "data": {
      "text/plain": [
       "'shiba_dog'"
      ]
     },
     "execution_count": 14,
     "metadata": {},
     "output_type": "execute_result"
    }
   ],
   "source": [
    "file_name[0].lstrip('0123456789-n').lower()"
   ]
  },
  {
   "cell_type": "code",
   "execution_count": 16,
   "metadata": {},
   "outputs": [],
   "source": [
    "for name in file_name:\n",
    "    os.rename(os.path.join(path,name.lstrip('0123456789-n')),os.path.join(path,name.lstrip('0123456789-n').lower()))"
   ]
  },
  {
   "cell_type": "code",
   "execution_count": 18,
   "metadata": {},
   "outputs": [
    {
     "data": {
      "text/plain": [
       "['affenpinscher',\n",
       " 'african_hunting_dog',\n",
       " 'airedale',\n",
       " 'australian_terrier',\n",
       " 'bernese_mountain_dog',\n",
       " 'blenheim_spaniel',\n",
       " 'bloodhound',\n",
       " 'border_terrier',\n",
       " 'brabancon_griffo',\n",
       " 'cairn',\n",
       " 'curly_coated_retriever',\n",
       " 'dandie_dinmont',\n",
       " 'dhole',\n",
       " 'doberman',\n",
       " 'english_setter',\n",
       " 'flat_coated_retriever',\n",
       " 'french_bulldog',\n",
       " 'german_shepherd',\n",
       " 'german_short_haired_pointer',\n",
       " 'great_dane',\n",
       " 'ibizan_hound',\n",
       " 'irish_setter',\n",
       " 'irish_terrier',\n",
       " 'kelpie',\n",
       " 'leonberg',\n",
       " 'malamute',\n",
       " 'miniature_poodle',\n",
       " 'norfolk_terrier',\n",
       " 'norwich_terrier',\n",
       " 'pembroke',\n",
       " 'pomeranian',\n",
       " 'redbone',\n",
       " 'saint_bernard',\n",
       " 'saluki',\n",
       " 'schipperke',\n",
       " 'scotch_terrier',\n",
       " 'sealyham_terrier',\n",
       " 'shiba_dog',\n",
       " 'siberian_husky',\n",
       " 'staffordshire_bullterrier',\n",
       " 'tibetan_mastiff',\n",
       " 'tibetan_terrier',\n",
       " 'vizsla',\n",
       " 'welsh_springer_spaniel',\n",
       " 'west_highland_white_terrier',\n",
       " '~$directoryfilecount.xlsx']"
      ]
     },
     "execution_count": 18,
     "metadata": {},
     "output_type": "execute_result"
    }
   ],
   "source": [
    "file_name = os.listdir(path)\n",
    "file_name"
   ]
  },
  {
   "cell_type": "code",
   "execution_count": 19,
   "metadata": {},
   "outputs": [],
   "source": [
    "with open('Ts_class_en.txt','w') as wp:\n",
    "    for cls in file_name:\n",
    "        wp.write(cls+'\\n')\n"
   ]
  },
  {
   "cell_type": "code",
   "execution_count": 22,
   "metadata": {},
   "outputs": [
    {
     "data": {
      "text/plain": [
       "80"
      ]
     },
     "execution_count": 22,
     "metadata": {},
     "output_type": "execute_result"
    }
   ],
   "source": [
    "import pre_res\n",
    "\n",
    "pre_cls = set(pre_res.read_txt(r'class.txt'))\n",
    "add_cls = set(pre_res.read_txt(r'Ts_class_en.txt'))\n",
    "\n",
    "len(pre_cls|add_cls)\n"
   ]
  },
  {
   "cell_type": "code",
   "execution_count": 24,
   "metadata": {},
   "outputs": [
    {
     "name": "stdout",
     "output_type": "stream",
     "text": [
      "{'english_setter\\n', 'saint_bernard\\n'}\n"
     ]
    }
   ],
   "source": [
    "print(pre_cls&add_cls)"
   ]
  },
  {
   "cell_type": "markdown",
   "metadata": {},
   "source": [
    "## 把新数据集中与旧数据集中种类相同的名字统一化"
   ]
  },
  {
   "cell_type": "code",
   "execution_count": 5,
   "metadata": {},
   "outputs": [],
   "source": [
    "os.rename(os.path.join(path,'german_short_haired_pointer'),os.path.join(path,'german-shorthaired'))\n",
    "os.rename(os.path.join(path,'scotch_terrier'),os.path.join(path,'scottish-terrier'))\n",
    "os.rename(os.path.join(path,'shiba_dog'),os.path.join(path,'shiba-inu'))\n"
   ]
  },
  {
   "cell_type": "markdown",
   "metadata": {},
   "source": [
    "## 将新数据集融合到原数据集"
   ]
  },
  {
   "cell_type": "code",
   "execution_count": 10,
   "metadata": {},
   "outputs": [
    {
     "data": {
      "text/plain": [
       "['affenpinscher',\n",
       " 'african_hunting_dog',\n",
       " 'airedale',\n",
       " 'australian_terrier',\n",
       " 'bernese_mountain_dog',\n",
       " 'blenheim_spaniel',\n",
       " 'bloodhound',\n",
       " 'border_terrier',\n",
       " 'brabancon_griffo',\n",
       " 'cairn',\n",
       " 'curly_coated_retriever',\n",
       " 'dandie_dinmont',\n",
       " 'dhole',\n",
       " 'doberman',\n",
       " 'english_setter',\n",
       " 'flat_coated_retriever',\n",
       " 'french_bulldog',\n",
       " 'german_shepherd',\n",
       " 'german_shorthaired',\n",
       " 'great_dane',\n",
       " 'ibizan_hound',\n",
       " 'irish_setter',\n",
       " 'irish_terrier',\n",
       " 'kelpie',\n",
       " 'leonberg',\n",
       " 'malamute',\n",
       " 'miniature_poodle',\n",
       " 'norfolk_terrier',\n",
       " 'norwich_terrier',\n",
       " 'pembroke',\n",
       " 'pomeranian',\n",
       " 'redbone',\n",
       " 'saint_bernard',\n",
       " 'saluki',\n",
       " 'schipperke',\n",
       " 'scottish_terrier',\n",
       " 'sealyham_terrier',\n",
       " 'shiba_inu',\n",
       " 'siberian_husky',\n",
       " 'staffordshire_bullterrier',\n",
       " 'tibetan_mastiff',\n",
       " 'tibetan_terrier',\n",
       " 'vizsla',\n",
       " 'welsh_springer_spaniel',\n",
       " 'west_highland_white_terrier']"
      ]
     },
     "execution_count": 10,
     "metadata": {},
     "output_type": "execute_result"
    }
   ],
   "source": [
    "file_name"
   ]
  },
  {
   "cell_type": "code",
   "execution_count": 11,
   "metadata": {},
   "outputs": [
    {
     "data": {
      "text/plain": [
       "['Abyssinian',\n",
       " 'american_bulldo',\n",
       " 'american_pit_bull_terrier',\n",
       " 'basset_hound',\n",
       " 'beagle',\n",
       " 'Bengal',\n",
       " 'Birman',\n",
       " 'Bombay',\n",
       " 'boxer',\n",
       " 'British_Shorthair',\n",
       " 'chihuahua',\n",
       " 'Egyptian_Mau',\n",
       " 'english_cocker_spaniel',\n",
       " 'english_setter',\n",
       " 'german_shorthaired',\n",
       " 'great_pyrenees',\n",
       " 'havanese',\n",
       " 'japanese_chin',\n",
       " 'keeshond',\n",
       " 'leonberger',\n",
       " 'Maine_Coon',\n",
       " 'miniature_pinscher',\n",
       " 'newfoundland',\n",
       " 'Persian',\n",
       " 'pomeranian',\n",
       " 'pu',\n",
       " 'Ragdoll',\n",
       " 'Russian_Blue',\n",
       " 'saint_bernard',\n",
       " 'samoyed',\n",
       " 'scottish_terrier',\n",
       " 'shiba_inu',\n",
       " 'Siamese',\n",
       " 'Sphynx',\n",
       " 'staffordshire_bull_terrier',\n",
       " 'wheaten_terrier',\n",
       " 'yorkshire_terrier']"
      ]
     },
     "execution_count": 11,
     "metadata": {},
     "output_type": "execute_result"
    }
   ],
   "source": [
    "pre_cls = os.listdir(r'E:\\py_code\\pets-recognitions\\dataset\\train')\n",
    "pre_cls"
   ]
  },
  {
   "cell_type": "code",
   "execution_count": 13,
   "metadata": {},
   "outputs": [],
   "source": [
    "import shutil\n",
    "org_path = r'E:\\py_code\\pets-recognitions\\dataset\\train'"
   ]
  },
  {
   "cell_type": "code",
   "execution_count": 14,
   "metadata": {},
   "outputs": [],
   "source": [
    "for new in file_name:\n",
    "    if new in pre_cls:\n",
    "        for pic in os.listdir(os.path.join(path,new)):\n",
    "            shutil.copy(os.path.join(path,new,pic),os.path.join(org_path,new,pic))\n",
    "    else:\n",
    "        os.makedirs(os.path.join(org_path,new))#创建新类\n",
    "        for pic in os.listdir(os.path.join(path,new)):\n",
    "            shutil.copy(os.path.join(path,new,pic),os.path.join(org_path,new,pic))"
   ]
  },
  {
   "cell_type": "code",
   "execution_count": 15,
   "metadata": {},
   "outputs": [
    {
     "data": {
      "text/plain": [
       "76"
      ]
     },
     "execution_count": 15,
     "metadata": {},
     "output_type": "execute_result"
    }
   ],
   "source": [
    "total = os.listdir(r'E:\\py_code\\pets-recognitions\\dataset\\train')\n",
    "len(total)"
   ]
  },
  {
   "cell_type": "code",
   "execution_count": 16,
   "metadata": {},
   "outputs": [
    {
     "data": {
      "text/plain": [
       "45"
      ]
     },
     "execution_count": 16,
     "metadata": {},
     "output_type": "execute_result"
    }
   ],
   "source": [
    "len(file_name)"
   ]
  },
  {
   "cell_type": "code",
   "execution_count": 34,
   "metadata": {},
   "outputs": [
    {
     "data": {
      "text/plain": [
       "37"
      ]
     },
     "execution_count": 34,
     "metadata": {},
     "output_type": "execute_result"
    }
   ],
   "source": []
  },
  {
   "cell_type": "code",
   "execution_count": 35,
   "metadata": {},
   "outputs": [
    {
     "data": {
      "text/plain": [
       "39"
      ]
     },
     "execution_count": 35,
     "metadata": {},
     "output_type": "execute_result"
    }
   ],
   "source": [
    "part1_val = set(file_name)-set(pre_cls)\n",
    "len(part1_val)\n"
   ]
  },
  {
   "cell_type": "code",
   "execution_count": 36,
   "metadata": {},
   "outputs": [
    {
     "name": "stdout",
     "output_type": "stream",
     "text": [
      "dhole\n"
     ]
    }
   ],
   "source": [
    "for i in part1_val:\n",
    "    print(i)\n",
    "    break"
   ]
  },
  {
   "cell_type": "code",
   "execution_count": 37,
   "metadata": {},
   "outputs": [
    {
     "data": {
      "text/plain": [
       "False"
      ]
     },
     "execution_count": 37,
     "metadata": {},
     "output_type": "execute_result"
    }
   ],
   "source": [
    "list(part1_val)[0] in pre_cls"
   ]
  },
  {
   "cell_type": "code",
   "execution_count": null,
   "metadata": {},
   "outputs": [],
   "source": []
  },
  {
   "cell_type": "code",
   "execution_count": 19,
   "metadata": {},
   "outputs": [],
   "source": [
    "val_path = r'E:\\py_code\\pets-recognitions\\dataset\\val'"
   ]
  },
  {
   "cell_type": "code",
   "execution_count": 40,
   "metadata": {},
   "outputs": [],
   "source": [
    "def move_pic(cls):\n",
    "    os.makedirs(os.path.join(val_path,cls))\n",
    "    #移动5张图片到val集\n",
    "    for num in range(5):\n",
    "        val_pic = os.listdir(os.path.join(org_path,cls))[int(num)]\n",
    "        shutil.move(os.path.join(org_path,cls,val_pic),os.path.join(val_path,cls))"
   ]
  },
  {
   "cell_type": "code",
   "execution_count": 41,
   "metadata": {},
   "outputs": [],
   "source": [
    "for cls in part1_val:\n",
    "    move_pic(cls)"
   ]
  },
  {
   "cell_type": "code",
   "execution_count": null,
   "metadata": {},
   "outputs": [],
   "source": []
  }
 ],
 "metadata": {
  "kernelspec": {
   "display_name": "base",
   "language": "python",
   "name": "python3"
  },
  "language_info": {
   "codemirror_mode": {
    "name": "ipython",
    "version": 3
   },
   "file_extension": ".py",
   "mimetype": "text/x-python",
   "name": "python",
   "nbconvert_exporter": "python",
   "pygments_lexer": "ipython3",
   "version": "3.9.13"
  },
  "orig_nbformat": 4
 },
 "nbformat": 4,
 "nbformat_minor": 2
}
